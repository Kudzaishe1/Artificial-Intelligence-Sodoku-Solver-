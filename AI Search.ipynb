{
 "cells": [
  {
   "cell_type": "markdown",
   "metadata": {},
   "source": [
    "# Importing all the important libraries"
   ]
  },
  {
   "cell_type": "code",
   "execution_count": 17,
   "metadata": {},
   "outputs": [],
   "source": [
    "import numpy as np\n",
    "import Nodes\n",
    "import datetime\n",
    "import collections"
   ]
  },
  {
   "cell_type": "markdown",
   "metadata": {},
   "source": [
    "# Importing the incomplete grid into the notebook"
   ]
  },
  {
   "cell_type": "code",
   "execution_count": 18,
   "metadata": {},
   "outputs": [
    {
     "name": "stdout",
     "output_type": "stream",
     "text": [
      "[[4 8 3 9 2 1 6 5 7]\n",
      " [9 6 7 3 4 5 8 2 1]\n",
      " [0 5 1 8 0 6 4 9 3]\n",
      " [5 4 8 1 3 2 9 0 6]\n",
      " [7 2 9 5 6 4 1 3 8]\n",
      " [1 3 6 0 9 8 2 4 5]\n",
      " [3 7 2 6 8 9 5 1 4]\n",
      " [8 1 4 2 5 3 7 6 9]\n",
      " [6 9 5 4 1 7 3 8 0]]\n"
     ]
    }
   ],
   "source": [
    "Data = []\n",
    "with open(\"Sudoku_sol_1.txt\",\"r\") as file:\n",
    "    for x in range(0,9): \n",
    "        Data.append(file.readline().split())\n",
    "Data = np.array(Data,dtype=np.int32)\n",
    "print(Data)"
   ]
  },
  {
   "cell_type": "markdown",
   "metadata": {},
   "source": [
    "# The sub square violation method which checks if any violations are present within each 9 x 9 sub square"
   ]
  },
  {
   "cell_type": "code",
   "execution_count": 19,
   "metadata": {},
   "outputs": [],
   "source": [
    "def sub_square(arr):\n",
    "    data = arr.reshape(3,3,3,3)\n",
    "    for x in data:\n",
    "        test = []\n",
    "        for y in x:\n",
    "            try:\n",
    "                test[0] = np.concatenate((test[0], y[0]), axis=0)\n",
    "                test[1] = np.concatenate((test[1], y[1]), axis=0)\n",
    "                test[2] = np.concatenate((test[2], y[2]), axis=0)\n",
    "            except:\n",
    "                test.append(np.array(y[0]))\n",
    "                test.append(np.array(y[1]))\n",
    "                test.append(np.array(y[2]))\n",
    "\n",
    "        for i in test:\n",
    "            flag = [item for item, count in collections.Counter(i).items() if count > 1]\n",
    "            for i in flag:\n",
    "                if(i != 0): return True\n",
    "    return False"
   ]
  },
  {
   "cell_type": "markdown",
   "metadata": {},
   "source": [
    "# The column violation method which checks if there are duplicate numbers in any column within the grid"
   ]
  },
  {
   "cell_type": "code",
   "execution_count": 20,
   "metadata": {},
   "outputs": [],
   "source": [
    "def is_col_violation(Data):\n",
    "    count = 0\n",
    "    while count < 9:\n",
    "        col = []\n",
    "        for x in Data:\n",
    "            if(x[count] == 0): continue\n",
    "            if(x[count] in col):return True\n",
    "            col.append(x[count])\n",
    "        count+=1\n",
    "    return False"
   ]
  },
  {
   "cell_type": "markdown",
   "metadata": {},
   "source": [
    "# The row violation method checks if there are any duplicate numbers in each row of the grid"
   ]
  },
  {
   "cell_type": "code",
   "execution_count": 21,
   "metadata": {},
   "outputs": [],
   "source": [
    "def is_row_violation(Data):\n",
    "    for x in Data:\n",
    "        flag = [item for item, count in collections.Counter(list(x)).items() if count > 1]\n",
    "        for i in flag:\n",
    "            if(i != 0): return True\n",
    "    return False"
   ]
  },
  {
   "cell_type": "markdown",
   "metadata": {},
   "source": [
    "# The get zeros and has zeros methods below provide the positions of all the incomplete cells within the grid and the has zeros method checks if the grid is incomplete (no zeros) or complete (zeros present)"
   ]
  },
  {
   "cell_type": "code",
   "execution_count": 22,
   "metadata": {},
   "outputs": [],
   "source": [
    "def get_zeros(state):\n",
    "        zero = np.where(state == 0)\n",
    "        return zero\n",
    "\n",
    "def has_zeros(state):\n",
    "\n",
    "        flag = np.where(state == 0)\n",
    "        if(len(flag[0]) != 0): return True\n",
    "        return False"
   ]
  },
  {
   "cell_type": "markdown",
   "metadata": {},
   "source": [
    "# The depth first search algorithm"
   ]
  },
  {
   "cell_type": "code",
   "execution_count": 23,
   "metadata": {},
   "outputs": [
    {
     "name": "stdout",
     "output_type": "stream",
     "text": [
      "59\n",
      "[[4 8 3 9 2 1 6 5 7]\n",
      " [9 6 7 3 4 5 8 2 1]\n",
      " [2 5 1 8 7 6 4 9 3]\n",
      " [5 4 8 1 3 2 9 7 6]\n",
      " [7 2 9 5 6 4 1 3 8]\n",
      " [1 3 6 7 9 8 2 4 5]\n",
      " [3 7 2 6 8 9 5 1 4]\n",
      " [8 1 4 2 5 3 7 6 9]\n",
      " [6 9 5 4 1 7 3 8 2]]\n",
      "\n",
      "The Exhaustive search time is :91.73\n"
     ]
    }
   ],
   "source": [
    "def Depth_First_Search_infinite_time (states,Root,limit):\n",
    "        if(has_zeros(Root.state) == False and is_col_violation(Root.state) == False and is_row_violation(Root.state) == False and sub_square(Root.state) == False):\n",
    "            print(states)\n",
    "            return Root.state\n",
    "\n",
    "        elif(limit == 0):\n",
    "            return 0\n",
    "\n",
    "        else:\n",
    "            cuttoff = False\n",
    "            zeros = get_zeros(Root.state) \n",
    "\n",
    "            for i in range (0,len(Root.children)):\n",
    "                action = Root.get_child()\n",
    "                for y,x in enumerate(zeros[0]):\n",
    "                    child = Nodes.Node(Root.state.copy())\n",
    "                    child.set_state(zeros[0][y],zeros[1][y], action)\n",
    "                    states += 1\n",
    "                    result = Depth_First_Search_infinite_time(states+1,child,limit-1)\n",
    "                    try:\n",
    "                            if(result.any()): \n",
    "                                return result\n",
    "                    except:\n",
    "                            if(result) == 0:\n",
    "                                cuttoff = True\n",
    "        if(cuttoff):\n",
    "            return cuttoff\n",
    "        \n",
    "Root_Node = Nodes.Node(Data)\n",
    "start = datetime.datetime.now()\n",
    "print(Depth_First_Search_infinite_time(1,Root_Node,len(get_zeros(Root_Node.state)[0])))\n",
    "end = datetime.datetime.now()\n",
    "print(\"\\nThe Exhaustive search time is :{}\".format((end - start).microseconds/1000))"
   ]
  },
  {
   "cell_type": "markdown",
   "metadata": {},
   "source": [
    "# The backtracking CSP algorithm"
   ]
  },
  {
   "cell_type": "code",
   "execution_count": 24,
   "metadata": {},
   "outputs": [
    {
     "name": "stdout",
     "output_type": "stream",
     "text": [
      "6\n",
      "[[4 8 3 9 2 1 6 5 7]\n",
      " [9 6 7 3 4 5 8 2 1]\n",
      " [2 5 1 8 7 6 4 9 3]\n",
      " [5 4 8 1 3 2 9 7 6]\n",
      " [7 2 9 5 6 4 1 3 8]\n",
      " [1 3 6 7 9 8 2 4 5]\n",
      " [3 7 2 6 8 9 5 1 4]\n",
      " [8 1 4 2 5 3 7 6 9]\n",
      " [6 9 5 4 1 7 3 8 2]]\n",
      "\n",
      "The Backtracking_CSP time is :9.976\n"
     ]
    }
   ],
   "source": [
    "def Backtracking_CSP(States,Root):\n",
    "\n",
    "        if(has_zeros(Root.state) == False):\n",
    "            print(States)\n",
    "            return Root.state\n",
    "\n",
    "        else:\n",
    "            zeros = get_zeros(Root.state) \n",
    "\n",
    "            for i in range (0,len(Root.children)):\n",
    "                action = Root.get_child()\n",
    "                child = Nodes.Node(Root.state.copy())\n",
    "                child.set_state(zeros[0][0],zeros[1][0], action)\n",
    "\n",
    "                if(is_col_violation(child.state) == False and is_row_violation(child.state) == False and sub_square(child.state) == False):\n",
    "                        result = Backtracking_CSP(States+1,child)\n",
    "                        try:\n",
    "                            if(result.any()):\n",
    "                                return result\n",
    "                        except:\n",
    "                            pass\n",
    "\n",
    "Root_Node = Nodes.Node(Data)\n",
    "start = datetime.datetime.now()\n",
    "data = Backtracking_CSP(1,Root_Node)\n",
    "print(data)\n",
    "end = datetime.datetime.now()\n",
    "print(\"\\nThe Backtracking_CSP time is :{}\".format((end - start).microseconds/1000))"
   ]
  },
  {
   "cell_type": "code",
   "execution_count": null,
   "metadata": {},
   "outputs": [],
   "source": []
  }
 ],
 "metadata": {
  "kernelspec": {
   "display_name": "Python 3",
   "language": "python",
   "name": "python3"
  },
  "language_info": {
   "codemirror_mode": {
    "name": "ipython",
    "version": 3
   },
   "file_extension": ".py",
   "mimetype": "text/x-python",
   "name": "python",
   "nbconvert_exporter": "python",
   "pygments_lexer": "ipython3",
   "version": "3.7.7"
  }
 },
 "nbformat": 4,
 "nbformat_minor": 4
}
